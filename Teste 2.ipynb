{
 "cells": [
  {
   "cell_type": "code",
   "execution_count": 2,
   "id": "60ceb4bd",
   "metadata": {},
   "outputs": [
    {
     "name": "stdout",
     "output_type": "stream",
     "text": [
      "Collecting camelot-py[cv]\n",
      "  Downloading camelot_py-0.9.0-py3-none-any.whl (43 kB)\n",
      "Requirement already satisfied: chardet>=3.0.4 in c:\\users\\inlim\\anaconda3\\lib\\site-packages (from camelot-py[cv]) (4.0.0)\n",
      "Requirement already satisfied: click>=6.7 in c:\\users\\inlim\\anaconda3\\lib\\site-packages (from camelot-py[cv]) (7.1.2)\n",
      "Collecting PyPDF2>=1.26.0\n",
      "  Downloading PyPDF2-1.26.0.tar.gz (77 kB)\n",
      "Requirement already satisfied: openpyxl>=2.5.8 in c:\\users\\inlim\\anaconda3\\lib\\site-packages (from camelot-py[cv]) (3.0.7)\n",
      "Requirement already satisfied: pandas>=0.23.4 in c:\\users\\inlim\\anaconda3\\lib\\site-packages (from camelot-py[cv]) (1.2.4)\n",
      "Collecting pdfminer.six>=20200726\n",
      "  Downloading pdfminer.six-20201018-py3-none-any.whl (5.6 MB)\n",
      "Requirement already satisfied: numpy>=1.13.3 in c:\\users\\inlim\\anaconda3\\lib\\site-packages (from camelot-py[cv]) (1.20.1)\n",
      "Collecting opencv-python>=3.4.2.17\n",
      "  Downloading opencv_python-4.5.2.54-cp38-cp38-win_amd64.whl (34.7 MB)\n",
      "Requirement already satisfied: et-xmlfile in c:\\users\\inlim\\anaconda3\\lib\\site-packages (from openpyxl>=2.5.8->camelot-py[cv]) (1.0.1)\n",
      "Requirement already satisfied: pytz>=2017.3 in c:\\users\\inlim\\anaconda3\\lib\\site-packages (from pandas>=0.23.4->camelot-py[cv]) (2021.1)\n",
      "Requirement already satisfied: python-dateutil>=2.7.3 in c:\\users\\inlim\\anaconda3\\lib\\site-packages (from pandas>=0.23.4->camelot-py[cv]) (2.8.1)\n",
      "Requirement already satisfied: cryptography in c:\\users\\inlim\\anaconda3\\lib\\site-packages (from pdfminer.six>=20200726->camelot-py[cv]) (3.4.7)\n",
      "Requirement already satisfied: sortedcontainers in c:\\users\\inlim\\anaconda3\\lib\\site-packages (from pdfminer.six>=20200726->camelot-py[cv]) (2.3.0)\n",
      "Requirement already satisfied: six>=1.5 in c:\\users\\inlim\\anaconda3\\lib\\site-packages (from python-dateutil>=2.7.3->pandas>=0.23.4->camelot-py[cv]) (1.15.0)\n",
      "Requirement already satisfied: cffi>=1.12 in c:\\users\\inlim\\anaconda3\\lib\\site-packages (from cryptography->pdfminer.six>=20200726->camelot-py[cv]) (1.14.5)\n",
      "Requirement already satisfied: pycparser in c:\\users\\inlim\\anaconda3\\lib\\site-packages (from cffi>=1.12->cryptography->pdfminer.six>=20200726->camelot-py[cv]) (2.20)\n",
      "Building wheels for collected packages: PyPDF2\n",
      "  Building wheel for PyPDF2 (setup.py): started\n",
      "  Building wheel for PyPDF2 (setup.py): finished with status 'done'\n",
      "  Created wheel for PyPDF2: filename=PyPDF2-1.26.0-py3-none-any.whl size=61085 sha256=6f9f051c96ea84b0ef1e8ff59ea0ced9decab2aea3c2155c26dcf525bff07030\n",
      "  Stored in directory: c:\\users\\inlim\\appdata\\local\\pip\\cache\\wheels\\b1\\1a\\8f\\a4c34be976825a2f7948d0fa40907598d69834f8ab5889de11\n",
      "Successfully built PyPDF2\n",
      "Installing collected packages: PyPDF2, pdfminer.six, opencv-python, camelot-py\n",
      "Successfully installed PyPDF2-1.26.0 camelot-py-0.9.0 opencv-python-4.5.2.54 pdfminer.six-20201018\n",
      "Note: you may need to restart the kernel to use updated packages.\n"
     ]
    }
   ],
   "source": [
    "pip install camelot-py[cv]"
   ]
  },
  {
   "cell_type": "code",
   "execution_count": 28,
   "id": "5c607b04",
   "metadata": {},
   "outputs": [],
   "source": [
    "import camelot\n",
    "import pandas as pd\n",
    "import zipfile\n",
    "\n",
    "tables = camelot.read_pdf('example.pdf', flavor='stream', pages='79-85')"
   ]
  },
  {
   "cell_type": "code",
   "execution_count": 29,
   "id": "aa12e3cc",
   "metadata": {},
   "outputs": [],
   "source": [
    "df1 = tables[0].df\n",
    "df2 = df1[26:]\n",
    "df3 = tables[1].df\n",
    "df4 = df2.append(tables[1].df)\n",
    "df5 = df4.append(tables[2].df)\n",
    "df6 = df5.append(tables[3].df)\n",
    "df7 = df6.append(tables[4].df)\n",
    "df8 = df7.append(tables[5].df)\n",
    "\n",
    "table_31 = pd.DataFrame(df8)\n",
    "table_31.rename(index={0:'Código'}, columns={1:'Descrição da Categoria'}, inplace=True)"
   ]
  },
  {
   "cell_type": "code",
   "execution_count": 30,
   "id": "e19013fd",
   "metadata": {},
   "outputs": [],
   "source": [
    "table_30 = df1[4:8]\n",
    "\n",
    "_table = pd.DataFrame(tables[6].df)\n",
    "table_32 = _table[3:6]"
   ]
  },
  {
   "cell_type": "code",
   "execution_count": 32,
   "id": "65235f38",
   "metadata": {},
   "outputs": [],
   "source": [
    "z = zipfile.ZipFile('Teste_Intuitive_Care_{Isaac Nascimento Lima}.zip', 'w', zipfile.ZIP_DEFLATED)\n",
    "\n",
    "table_30.to_csv('Tabela de Tipo do Demandante.csv', index = False)\n",
    "table_31.to_csv('Tabela de Categoria do Padrão TISS.csv', index = False)\n",
    "table_32.to_csv('Tabela de Tipo de Solicitação.csv', index = False)\n",
    "\n",
    "z.write('Tabela de Tipo do Demandante.csv')\n",
    "z.write('Tabela de Categoria do Padrão TISS.csv')\n",
    "z.write('Tabela de Tipo de Solicitação.csv')\n",
    "\n",
    "z.close()"
   ]
  }
 ],
 "metadata": {
  "kernelspec": {
   "display_name": "Python 3",
   "language": "python",
   "name": "python3"
  },
  "language_info": {
   "codemirror_mode": {
    "name": "ipython",
    "version": 3
   },
   "file_extension": ".py",
   "mimetype": "text/x-python",
   "name": "python",
   "nbconvert_exporter": "python",
   "pygments_lexer": "ipython3",
   "version": "3.8.8"
  }
 },
 "nbformat": 4,
 "nbformat_minor": 5
}
